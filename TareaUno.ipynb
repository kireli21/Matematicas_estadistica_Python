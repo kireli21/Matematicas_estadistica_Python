{
 "cells": [
  {
   "cell_type": "code",
   "execution_count": 2,
   "id": "912396a0",
   "metadata": {},
   "outputs": [],
   "source": [
    "import math"
   ]
  },
  {
   "cell_type": "markdown",
   "id": "3f9d419e",
   "metadata": {},
   "source": [
    "#### Ejercicio 1"
   ]
  },
  {
   "cell_type": "code",
   "execution_count": 3,
   "id": "878eb148",
   "metadata": {},
   "outputs": [
    {
     "name": "stdout",
     "output_type": "stream",
     "text": [
      "11\n"
     ]
    }
   ],
   "source": [
    "t = math.log(2000,2)\n",
    "print(math.ceil(t))"
   ]
  },
  {
   "cell_type": "markdown",
   "id": "ae1cd656",
   "metadata": {},
   "source": [
    "#### Ejercicio 2"
   ]
  },
  {
   "cell_type": "code",
   "execution_count": 4,
   "id": "f9186dfb",
   "metadata": {},
   "outputs": [
    {
     "name": "stdout",
     "output_type": "stream",
     "text": [
      "1.0\n"
     ]
    }
   ],
   "source": [
    "print(math.log(1,2) + math.log(2,2))"
   ]
  },
  {
   "cell_type": "markdown",
   "id": "c706a21c",
   "metadata": {},
   "source": [
    "#### Ejercicio 3"
   ]
  },
  {
   "cell_type": "code",
   "execution_count": 5,
   "id": "2b187d5e",
   "metadata": {},
   "outputs": [
    {
     "name": "stdout",
     "output_type": "stream",
     "text": [
      "6.123233995736766e-17\n",
      "1.0\n"
     ]
    }
   ],
   "source": [
    "a = (math.pi/180)*90\n",
    "print(math.cos(a))\n",
    "print(math.sin(a))"
   ]
  },
  {
   "cell_type": "code",
   "execution_count": 11,
   "id": "94a0a310",
   "metadata": {},
   "outputs": [
    {
     "name": "stdout",
     "output_type": "stream",
     "text": [
      "-0.7071067811865475\n",
      "0.7071067811865476\n"
     ]
    }
   ],
   "source": [
    "b = (math.pi/180)*135\n",
    "print(math.cos(b))\n",
    "print(math.sin(b))"
   ]
  },
  {
   "cell_type": "code",
   "execution_count": 10,
   "id": "5ea4526e",
   "metadata": {},
   "outputs": [
    {
     "name": "stdout",
     "output_type": "stream",
     "text": [
      "0.8660254037844384\n",
      "-0.5000000000000004\n"
     ]
    }
   ],
   "source": [
    "c = (math.pi/180)*330\n",
    "print(math.cos(c))\n",
    "print(math.sin(c))"
   ]
  },
  {
   "cell_type": "code",
   "execution_count": 9,
   "id": "f1f5e8a9",
   "metadata": {},
   "outputs": [
    {
     "name": "stdout",
     "output_type": "stream",
     "text": [
      "0.8660254037844392\n",
      "0.49999999999999906\n"
     ]
    }
   ],
   "source": [
    "d = (math.pi/180)*750\n",
    "print(math.cos(d))\n",
    "print(math.sin(d))"
   ]
  },
  {
   "cell_type": "markdown",
   "id": "bf65710f",
   "metadata": {},
   "source": [
    "#### Ejercicio 4"
   ]
  },
  {
   "cell_type": "code",
   "execution_count": 23,
   "id": "b338ea3c",
   "metadata": {},
   "outputs": [
    {
     "name": "stdout",
     "output_type": "stream",
     "text": [
      "11232000\n"
     ]
    }
   ],
   "source": [
    "print(math.perm(26, 3) * math.perm(10, 3)) #a"
   ]
  },
  {
   "cell_type": "code",
   "execution_count": 12,
   "id": "03d095fd",
   "metadata": {},
   "outputs": [
    {
     "name": "stdout",
     "output_type": "stream",
     "text": [
      "17576000.0\n"
     ]
    }
   ],
   "source": [
    "print(math.pow(26,3) * math.pow(10,3)) #b"
   ]
  },
  {
   "cell_type": "markdown",
   "id": "990a4cc9",
   "metadata": {},
   "source": [
    "#### Ejercicio 5"
   ]
  },
  {
   "cell_type": "code",
   "execution_count": 28,
   "id": "e6747189",
   "metadata": {},
   "outputs": [
    {
     "name": "stdout",
     "output_type": "stream",
     "text": [
      "10\n"
     ]
    }
   ],
   "source": [
    "print(math.comb(5,3))"
   ]
  }
 ],
 "metadata": {
  "kernelspec": {
   "display_name": "Python 3 (ipykernel)",
   "language": "python",
   "name": "python3"
  },
  "language_info": {
   "codemirror_mode": {
    "name": "ipython",
    "version": 3
   },
   "file_extension": ".py",
   "mimetype": "text/x-python",
   "name": "python",
   "nbconvert_exporter": "python",
   "pygments_lexer": "ipython3",
   "version": "3.10.9"
  }
 },
 "nbformat": 4,
 "nbformat_minor": 5
}
