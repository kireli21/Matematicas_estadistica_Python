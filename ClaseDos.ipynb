{
 "cells": [
  {
   "cell_type": "markdown",
   "id": "0e683037",
   "metadata": {},
   "source": [
    "# Numpy"
   ]
  },
  {
   "cell_type": "code",
   "execution_count": 2,
   "id": "2d8b91b4",
   "metadata": {},
   "outputs": [],
   "source": [
    "import numpy as np"
   ]
  },
  {
   "cell_type": "code",
   "execution_count": 4,
   "id": "66dba536",
   "metadata": {},
   "outputs": [
    {
     "name": "stdout",
     "output_type": "stream",
     "text": [
      "[0 1 2 3 4 5]\n"
     ]
    }
   ],
   "source": [
    "vector = np.array([0,1,2,3,4,5])\n",
    "print(vector)"
   ]
  },
  {
   "cell_type": "code",
   "execution_count": 7,
   "id": "98ecf246",
   "metadata": {},
   "outputs": [
    {
     "name": "stdout",
     "output_type": "stream",
     "text": [
      "[1. 2. 3. 4. 5.]\n",
      "[0.0e+00 0.0e+00 6.0e-08 0.0e+00 1.2e-07 0.0e+00 1.8e-07 0.0e+00 2.4e-07\n",
      " 0.0e+00 3.0e-07 0.0e+00]\n",
      "[1. 2. 3. 4. 5.]\n"
     ]
    }
   ],
   "source": [
    "vector2 = np.array([1,2,3,4,5], dtype = np.float32)\n",
    "print(vector2)\n",
    "\n",
    "vector.dtype = np.float16 #malo TnT\n",
    "print(vector)\n",
    "\n",
    "vector3 = np.array([1,2,3,4,5])\n",
    "vector3 = vector3.astype(np.float16) #El indicado... bueno °u°\n",
    "print(vector3)"
   ]
  },
  {
   "cell_type": "code",
   "execution_count": 8,
   "id": "09547264",
   "metadata": {},
   "outputs": [
    {
     "name": "stdout",
     "output_type": "stream",
     "text": [
      "4.0\n"
     ]
    }
   ],
   "source": [
    "print(vector3[3])"
   ]
  },
  {
   "cell_type": "code",
   "execution_count": 11,
   "id": "2a2a9d29",
   "metadata": {},
   "outputs": [
    {
     "name": "stdout",
     "output_type": "stream",
     "text": [
      "[0 1 2 3 4 5 6 7]\n"
     ]
    }
   ],
   "source": [
    "vector4 = np.array([0,1,2,3,4,5,6,7,8,9,10,11,12,13,14,15])\n",
    "print(vector4[0:8])"
   ]
  },
  {
   "cell_type": "code",
   "execution_count": 20,
   "id": "e7ab5b67",
   "metadata": {},
   "outputs": [
    {
     "name": "stdout",
     "output_type": "stream",
     "text": [
      "[ 0  0 -1]\n",
      "[0 2 5]\n",
      "[ 0 -1 -6]\n",
      "[nan  1.  2.]\n",
      "[0 2 4]\n",
      "[False  True  True]\n",
      "[1 1 4]\n"
     ]
    },
    {
     "name": "stderr",
     "output_type": "stream",
     "text": [
      "C:\\Users\\kireli\\AppData\\Local\\Temp\\ipykernel_3760\\2242344557.py:8: RuntimeWarning: invalid value encountered in divide\n",
      "  print(a/c)\n"
     ]
    }
   ],
   "source": [
    "a=np.array([0,1,2])\n",
    "b=np.array([0,-1,-3])\n",
    "c=np.array([0,1,1])\n",
    "\n",
    "print(a+b)\n",
    "print(a-b)\n",
    "print(a*b)\n",
    "print(a/c)\n",
    "print(2*a)\n",
    "print(a>=1)\n",
    "print(a**a)"
   ]
  },
  {
   "cell_type": "code",
   "execution_count": 25,
   "id": "d046a57f",
   "metadata": {},
   "outputs": [
    {
     "name": "stdout",
     "output_type": "stream",
     "text": [
      "[ 0.          1.07142857  2.14285714  3.21428571  4.28571429  5.35714286\n",
      "  6.42857143  7.5         8.57142857  9.64285714 10.71428571 11.78571429\n",
      " 12.85714286 13.92857143 15.        ]\n",
      "[ 0  1  2  3  4  5  6  7  8  9 10 11 12 13 14 15]\n"
     ]
    }
   ],
   "source": [
    "print(np.linspace(0,15,15))\n",
    "print(np.arange(0,16,1))"
   ]
  },
  {
   "cell_type": "markdown",
   "id": "4e8f4b5f",
   "metadata": {},
   "source": [
    "## Matriz"
   ]
  },
  {
   "cell_type": "code",
   "execution_count": 36,
   "id": "c97e0123",
   "metadata": {},
   "outputs": [
    {
     "name": "stdout",
     "output_type": "stream",
     "text": [
      "[[1 2 3]\n",
      " [4 5 6]\n",
      " [7 8 9]]\n",
      "(3, 3)\n",
      "(16,)\n",
      "[1 2 3 4 5 6 7 8 9]\n",
      "[[1 2 3]\n",
      " [4 5 6]\n",
      " [7 8 9]]\n",
      "[[ 0  1  2  3]\n",
      " [ 4  5  6  7]\n",
      " [ 8  9 10 11]\n",
      " [12 13 14 15]]\n"
     ]
    }
   ],
   "source": [
    "matrix = np.array([[1,2,3],[4,5,6],[7,8,9]])\n",
    "a = np.arange(0,16,1)\n",
    "print(matrix)\n",
    "print(matrix.shape)\n",
    "print(a.shape)\n",
    "\n",
    "nueva = matrix.reshape(9)\n",
    "print(nueva)\n",
    "\n",
    "print(matrix)\n",
    "\n",
    "nuevo = a.reshape(4,4)\n",
    "print(nuevo)"
   ]
  },
  {
   "cell_type": "code",
   "execution_count": 38,
   "id": "6a7be911",
   "metadata": {},
   "outputs": [],
   "source": [
    "mt1 = [[34,3],[67,7]]\n",
    "mt2 = [[11,2],[78,3]]\n",
    "mt3 = [[23,32],[90,1]]\n",
    "\n",
    "arr1 = np.array([mt1,mt2,mt3])  \n"
   ]
  },
  {
   "cell_type": "markdown",
   "id": "62006005",
   "metadata": {},
   "source": [
    "### filas columnas de cuando en cuanto se separan por comas y los intervalos con:\n",
    "[fila_i:fiña_f , colum_i:colum_f , de cuanto en cuanto]"
   ]
  },
  {
   "cell_type": "code",
   "execution_count": 48,
   "id": "5d827c42",
   "metadata": {},
   "outputs": [
    {
     "name": "stdout",
     "output_type": "stream",
     "text": [
      "[[1 2 3]\n",
      " [4 5 6]\n",
      " [7 8 9]]\n",
      "(3, 3)\n",
      "[[2]\n",
      " [5]\n",
      " [8]]\n"
     ]
    }
   ],
   "source": [
    "m =np.array([[1,2,3],[4,5,6],[7,8,9]])\n",
    "print(m)\n",
    "print(m.shape)\n",
    "\n",
    "print(m[:3,1:2]) #No olvidar que el segundo hay que sumarle1"
   ]
  },
  {
   "cell_type": "code",
   "execution_count": 5,
   "id": "5889d80f",
   "metadata": {},
   "outputs": [
    {
     "name": "stdout",
     "output_type": "stream",
     "text": [
      "[2. 1.]\n",
      "[3. 5.]\n"
     ]
    }
   ],
   "source": [
    "A = np.array([[2,-1],[1,3]])\n",
    "B = np.array([3,5])\n",
    "\n",
    "c = np.linalg.solve(A,B)\n",
    "print(c)\n",
    "print(A@c)\n"
   ]
  },
  {
   "cell_type": "code",
   "execution_count": null,
   "id": "f1d15496",
   "metadata": {},
   "outputs": [],
   "source": []
  }
 ],
 "metadata": {
  "kernelspec": {
   "display_name": "Python 3 (ipykernel)",
   "language": "python",
   "name": "python3"
  },
  "language_info": {
   "codemirror_mode": {
    "name": "ipython",
    "version": 3
   },
   "file_extension": ".py",
   "mimetype": "text/x-python",
   "name": "python",
   "nbconvert_exporter": "python",
   "pygments_lexer": "ipython3",
   "version": "3.10.9"
  }
 },
 "nbformat": 4,
 "nbformat_minor": 5
}
