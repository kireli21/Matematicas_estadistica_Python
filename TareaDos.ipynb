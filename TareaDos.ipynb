{
 "cells": [
  {
   "cell_type": "code",
   "execution_count": 4,
   "id": "1f479cb5",
   "metadata": {},
   "outputs": [],
   "source": [
    "import numpy as np"
   ]
  },
  {
   "cell_type": "markdown",
   "id": "672290ba",
   "metadata": {},
   "source": [
    "#### Ejercicio 1"
   ]
  },
  {
   "cell_type": "code",
   "execution_count": 6,
   "id": "fc359a25",
   "metadata": {},
   "outputs": [
    {
     "name": "stdout",
     "output_type": "stream",
     "text": [
      "[array([[ 1.,  4.],\n",
      "       [-1.,  3.],\n",
      "       [ 2., -9.]]), array([[ 1.,  4.],\n",
      "       [-1.,  3.],\n",
      "       [ 2., -9.]])]\n",
      "-----------------------------------\n",
      "[[0 0]\n",
      " [0 0]\n",
      " [0 0]]\n"
     ]
    }
   ],
   "source": [
    "A = np.array([[1,4],[-1,3],[2,-9]])\n",
    "cero = np.zeros((3,2))\n",
    "\n",
    "a = [A + cero, A-cero]\n",
    "\n",
    "b = A-A\n",
    "\n",
    "print(a)\n",
    "print(\"-----------------------------------\")\n",
    "print(b)"
   ]
  },
  {
   "cell_type": "markdown",
   "id": "9e940a1a",
   "metadata": {},
   "source": [
    "#### Ejercicio 2"
   ]
  },
  {
   "cell_type": "code",
   "execution_count": 20,
   "id": "12f445f5",
   "metadata": {},
   "outputs": [
    {
     "name": "stdout",
     "output_type": "stream",
     "text": [
      "[[ 3  0]\n",
      " [-1  5]]\n",
      "---------------\n",
      "[[ 4 -2  1]\n",
      " [ 0  2  3]]\n"
     ]
    }
   ],
   "source": [
    "A = np.array([[3,0],[-1,5]])\n",
    "B = np.array([[4,-2,1],[0,2,3]])\n",
    "\n",
    "print(A)\n",
    "print(\"---------------\")\n",
    "print(B)"
   ]
  },
  {
   "cell_type": "code",
   "execution_count": 38,
   "id": "dba5fb29",
   "metadata": {},
   "outputs": [
    {
     "name": "stdout",
     "output_type": "stream",
     "text": [
      "[[12 -6  3]\n",
      " [ 0  6  9]]\n"
     ]
    }
   ],
   "source": [
    "#A+3B\n",
    "B3 = 3 * B\n",
    "print(B3)"
   ]
  },
  {
   "cell_type": "code",
   "execution_count": 41,
   "id": "04c6da07",
   "metadata": {},
   "outputs": [
    {
     "name": "stdout",
     "output_type": "stream",
     "text": [
      "[[12 -6  3]\n",
      " [-4 12 14]]\n"
     ]
    }
   ],
   "source": [
    "#AB\n",
    "\n",
    "r2 = A@B\n",
    "print(r2)"
   ]
  },
  {
   "cell_type": "code",
   "execution_count": 43,
   "id": "e320fcaf",
   "metadata": {},
   "outputs": [
    {
     "name": "stdout",
     "output_type": "stream",
     "text": [
      "[[ 27   0]\n",
      " [ -1 125]] \n",
      "---------------------\n",
      " [[16  4  1]\n",
      " [ 0  4  9]]\n"
     ]
    }
   ],
   "source": [
    "# A^3 Y B^2\n",
    "\n",
    "r3 = A ** 3\n",
    "r4 = B ** 2\n",
    "\n",
    "print(r3,\"\\n---------------------\\n\",r4)"
   ]
  },
  {
   "cell_type": "code",
   "execution_count": 44,
   "id": "afbcc0e0",
   "metadata": {},
   "outputs": [
    {
     "name": "stdout",
     "output_type": "stream",
     "text": [
      "[[ 60 -30  15]\n",
      " [-20  60  70]]\n"
     ]
    }
   ],
   "source": [
    "#(5A)B\n",
    "\n",
    "p1 = 5 * A\n",
    "r5 = p1@B\n",
    "\n",
    "print(r5)"
   ]
  },
  {
   "cell_type": "markdown",
   "id": "f18e4027",
   "metadata": {},
   "source": [
    "#### Ejercicio 3"
   ]
  },
  {
   "cell_type": "code",
   "execution_count": 49,
   "id": "310956f8",
   "metadata": {},
   "outputs": [
    {
     "name": "stdout",
     "output_type": "stream",
     "text": [
      "Tienda 1:  192.6\n",
      "Tienda 2:  196.0\n",
      "\n",
      "La tienda mas accesible es la Tienda 1\n"
     ]
    }
   ],
   "source": [
    "rest = np.array([[30,15,4],[25,18,8]])\n",
    "tienda = np.array([[1.2,2.2,4.5],[1.3,2.1,4.6]])\n",
    "T = tienda.T\n",
    "\n",
    "costo = rest@T \n",
    "\n",
    "print(\"Tienda 1: \", (costo[0,0]+costo[1,0]))\n",
    "print(\"Tienda 2: \", (costo[0,1]+costo[1,1]))\n",
    "\n",
    "print(\"\\nLa tienda mas accesible es la Tienda 1\")"
   ]
  },
  {
   "cell_type": "markdown",
   "id": "189585f2",
   "metadata": {},
   "source": [
    "#### Ejercicio 4"
   ]
  },
  {
   "cell_type": "code",
   "execution_count": 51,
   "id": "0f4d35c8",
   "metadata": {},
   "outputs": [
    {
     "name": "stdout",
     "output_type": "stream",
     "text": [
      "[[1.5  1.75]\n",
      " [1.   1.5 ]\n",
      " [2.   1.  ]]\n",
      "Camion:  1112.5\n",
      "Tren:  1081.25\n",
      "\n",
      "El mejor transporte es el tren\n"
     ]
    }
   ],
   "source": [
    "Almc = np.array([[200,150,100],[75,100,125]])\n",
    "Medio = np.array([[1.50,1.00,2.00],[1.75,1.50,1.00]])\n",
    "M = Medio.T\n",
    "print(M)\n",
    "\n",
    "costo = Almc@M \n",
    "\n",
    "print(\"Camion: \", (costo[0,0]+costo[1,0]))\n",
    "print(\"Tren: \", (costo[0,1]+costo[1,1]))\n",
    "\n",
    "print(\"\\nEl mejor transporte es el tren\")"
   ]
  },
  {
   "cell_type": "markdown",
   "id": "2ab4d84f",
   "metadata": {},
   "source": [
    "#### Ejercicio 5"
   ]
  },
  {
   "cell_type": "code",
   "execution_count": 57,
   "id": "764f6ca3",
   "metadata": {},
   "outputs": [
    {
     "name": "stdout",
     "output_type": "stream",
     "text": [
      "[ 7.50000145e+08 -1.50000000e+09]\n",
      "-----comprobacion-----\n",
      "[6.         9.00000001]\n"
     ]
    }
   ],
   "source": [
    "#A = np.array([[3 , 2], [6 , 4]]) es singular lo que hace que no se pueda resolver\n",
    "\n",
    "# Calcular la pseudoinversa\n",
    "ps = np.linalg.pinv(matriz)\n",
    "\n",
    "print(ps)\n",
    "\n",
    "A = np.array([[0.09230769 , 0.04615385], [0.06153846 , 0.03076923]])\n",
    "B = np.array([6,9])\n",
    "\n",
    "c = np.linalg.solve(A,B)\n",
    "print(c)\n",
    "print(\"-----comprobacion-----\")\n",
    "print(A@c)"
   ]
  },
  {
   "cell_type": "code",
   "execution_count": 58,
   "id": "f3901333",
   "metadata": {},
   "outputs": [
    {
     "name": "stdout",
     "output_type": "stream",
     "text": [
      "[2.6 0.4]\n",
      "[3. 1.]\n"
     ]
    }
   ],
   "source": [
    "A = np.array([[1,1],[1,-4]])\n",
    "B = np.array([3,1])\n",
    "\n",
    "c = np.linalg.solve(A,B)\n",
    "print(c)\n",
    "print(\"-----comprobacion-----\")\n",
    "print(A@c)\n"
   ]
  },
  {
   "cell_type": "code",
   "execution_count": 59,
   "id": "08878019",
   "metadata": {},
   "outputs": [
    {
     "name": "stdout",
     "output_type": "stream",
     "text": [
      "[ 8.30769231 -6.69230769 -3.46153846]\n",
      "-----comprobacion-----\n",
      "[ 3.00000000e+00  1.77635684e-15 -1.20000000e+01]\n"
     ]
    }
   ],
   "source": [
    "A = np.array([[2, 1, 2], [2, 3, -1],[1, 2, 2]])\n",
    "B = np.array([3, 0, -12])\n",
    "\n",
    "c = np.linalg.solve(A,B)\n",
    "print(c)\n",
    "print(\"-----comprobacion-----\")\n",
    "print(A@c)"
   ]
  }
 ],
 "metadata": {
  "kernelspec": {
   "display_name": "Python 3 (ipykernel)",
   "language": "python",
   "name": "python3"
  },
  "language_info": {
   "codemirror_mode": {
    "name": "ipython",
    "version": 3
   },
   "file_extension": ".py",
   "mimetype": "text/x-python",
   "name": "python",
   "nbconvert_exporter": "python",
   "pygments_lexer": "ipython3",
   "version": "3.10.9"
  }
 },
 "nbformat": 4,
 "nbformat_minor": 5
}
