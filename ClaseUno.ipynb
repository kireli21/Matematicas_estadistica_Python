{
 "cells": [
  {
   "cell_type": "markdown",
   "id": "2ddf3e99",
   "metadata": {},
   "source": [
    "poner el raton en el borde y dejar que se ponga azul y luego M para texto y con D para eliminar\n",
    "\n",
    "alt enter o ctrl\n",
    "\n",
    "\n"
   ]
  },
  {
   "cell_type": "markdown",
   "id": "9047f492",
   "metadata": {},
   "source": [
    "# Tipo De Datos Con Python"
   ]
  },
  {
   "cell_type": "code",
   "execution_count": 2,
   "id": "ccdee6a1",
   "metadata": {
    "scrolled": true
   },
   "outputs": [],
   "source": [
    "from decimal import Decimal\n",
    "from decimal import getcontext\n",
    "from decimal import localcontext\n",
    "from fractions import Fraction\n",
    "import math\n",
    "ctx = getcontext()"
   ]
  },
  {
   "cell_type": "markdown",
   "id": "185f1945",
   "metadata": {},
   "source": [
    "### Tipo de dato decimal"
   ]
  },
  {
   "cell_type": "code",
   "execution_count": 6,
   "id": "60b36fe6",
   "metadata": {},
   "outputs": [
    {
     "name": "stdout",
     "output_type": "stream",
     "text": [
      "3.367536041183661825667281\n"
     ]
    }
   ],
   "source": [
    "num1 = Decimal('1.354653')\n",
    "print(num1**4) #Exponencial"
   ]
  },
  {
   "cell_type": "code",
   "execution_count": 8,
   "id": "be75a18e",
   "metadata": {},
   "outputs": [
    {
     "name": "stdout",
     "output_type": "stream",
     "text": [
      "3.37\n"
     ]
    }
   ],
   "source": [
    "ctx.prec= 3\n",
    "print(num1 ** 4) #se cuenta desde el entero"
   ]
  },
  {
   "cell_type": "code",
   "execution_count": 11,
   "id": "7eb10239",
   "metadata": {},
   "outputs": [
    {
     "name": "stdout",
     "output_type": "stream",
     "text": [
      "3.4\n",
      "3.37\n"
     ]
    }
   ],
   "source": [
    "with localcontext() as ctx:\n",
    "    ctx.prec = 2\n",
    "    print(num1 ** 4)\n",
    "print(num1 ** 4)"
   ]
  },
  {
   "cell_type": "code",
   "execution_count": 14,
   "id": "0eaded50",
   "metadata": {},
   "outputs": [
    {
     "name": "stdout",
     "output_type": "stream",
     "text": [
      "(4+2j)\n"
     ]
    }
   ],
   "source": [
    "z = 1 + 2j\n",
    "print(z+3)"
   ]
  },
  {
   "cell_type": "code",
   "execution_count": 18,
   "id": "96b2d58b",
   "metadata": {},
   "outputs": [
    {
     "name": "stdout",
     "output_type": "stream",
     "text": [
      "7/10\n"
     ]
    }
   ],
   "source": [
    "num2 = Fraction(1,2) #arriba , abajo\n",
    "num3 = Fraction(1,5)\n",
    "print(num2+num3)"
   ]
  },
  {
   "cell_type": "code",
   "execution_count": 19,
   "id": "cd164d91",
   "metadata": {},
   "outputs": [
    {
     "name": "stdout",
     "output_type": "stream",
     "text": [
      "8.0\n"
     ]
    }
   ],
   "source": [
    "print(math.sqrt(64))"
   ]
  },
  {
   "cell_type": "code",
   "execution_count": 21,
   "id": "119df40b",
   "metadata": {},
   "outputs": [
    {
     "name": "stdout",
     "output_type": "stream",
     "text": [
      "0.7071067811865476\n",
      "0.7071067811865476\n",
      "0.9999999999999999\n"
     ]
    }
   ],
   "source": [
    "theta = math.pi/4\n",
    "print(math.sin(theta))\n",
    "print(math.cos(theta))\n",
    "print(math.tan(theta))"
   ]
  },
  {
   "cell_type": "code",
   "execution_count": 24,
   "id": "b74655de",
   "metadata": {},
   "outputs": [
    {
     "name": "stdout",
     "output_type": "stream",
     "text": [
      "1.0\n",
      "2.0\n",
      "2.302585092994046\n"
     ]
    }
   ],
   "source": [
    "print(math.log(10,10))\n",
    "print(math.log(25,5))#base, numero\n",
    "print(math.log(10)) #Toma como default e\n"
   ]
  },
  {
   "cell_type": "code",
   "execution_count": 26,
   "id": "1330fe8e",
   "metadata": {},
   "outputs": [
    {
     "name": "stdout",
     "output_type": "stream",
     "text": [
      "2\n"
     ]
    }
   ],
   "source": [
    "print(math.gcd(2,4,8))"
   ]
  },
  {
   "cell_type": "code",
   "execution_count": 30,
   "id": "3df653cd",
   "metadata": {},
   "outputs": [
    {
     "name": "stdout",
     "output_type": "stream",
     "text": [
      "3\n",
      "6\n",
      "24\n"
     ]
    }
   ],
   "source": [
    "print(math.comb(3,2)) #solo te da el numero\n",
    "print(math.perm(3,2)) #cantidad, de a cuantos\n",
    "print(math.factorial(4))"
   ]
  },
  {
   "cell_type": "code",
   "execution_count": 34,
   "id": "b54615da",
   "metadata": {},
   "outputs": [
    {
     "name": "stdout",
     "output_type": "stream",
     "text": [
      "[0.1, 0.1, 0.1, 0.1, 0.1, 0.1, 0.1, 0.1, 0.1, 0.1]\n",
      "0.9999999999999999\n",
      "1.0\n"
     ]
    }
   ],
   "source": [
    "listNum = [.1]*10\n",
    "print(listNum)\n",
    "print(sum(listNum))\n",
    "print(math.fsum(listNum))"
   ]
  },
  {
   "cell_type": "code",
   "execution_count": 35,
   "id": "8015665f",
   "metadata": {},
   "outputs": [
    {
     "name": "stdout",
     "output_type": "stream",
     "text": [
      "1\n",
      "2\n"
     ]
    }
   ],
   "source": [
    "print(math.floor(1.65))\n",
    "print(math.ceil(1.3))"
   ]
  }
 ],
 "metadata": {
  "kernelspec": {
   "display_name": "Python 3 (ipykernel)",
   "language": "python",
   "name": "python3"
  },
  "language_info": {
   "codemirror_mode": {
    "name": "ipython",
    "version": 3
   },
   "file_extension": ".py",
   "mimetype": "text/x-python",
   "name": "python",
   "nbconvert_exporter": "python",
   "pygments_lexer": "ipython3",
   "version": "3.10.9"
  }
 },
 "nbformat": 4,
 "nbformat_minor": 5
}
